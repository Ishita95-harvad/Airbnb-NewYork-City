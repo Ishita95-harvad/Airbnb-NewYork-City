{
  "nbformat": 4,
  "nbformat_minor": 0,
  "metadata": {
    "colab": {
      "provenance": [],
      "authorship_tag": "ABX9TyMmhEc57S3YT9bhR4OmhXgu",
      "include_colab_link": true
    },
    "kernelspec": {
      "name": "python3",
      "display_name": "Python 3"
    },
    "language_info": {
      "name": "python"
    }
  },
  "cells": [
    {
      "cell_type": "markdown",
      "metadata": {
        "id": "view-in-github",
        "colab_type": "text"
      },
      "source": [
        "<a href=\"https://colab.research.google.com/github/Ishita95-harvad/Airbnb-NewYork-City/blob/main/Airbnb_New_York_City.ipynb\" target=\"_parent\"><img src=\"https://colab.research.google.com/assets/colab-badge.svg\" alt=\"Open In Colab\"/></a>"
      ]
    },
    {
      "cell_type": "markdown",
      "source": [
        "## **Airbnb-KaggleDatasets**"
      ],
      "metadata": {
        "id": "n9MgL-ZOgzDP"
      }
    },
    {
      "cell_type": "markdown",
      "source": [
        "**Airbnb is a paid community platform for renting and booking private\n",
        "accommodation founded in 2008. Airbnb allows individuals to rent all or part of their own home as extra accommodation. The site offers a search and booking platform between the person offering their accommodation and the vacationer who wishes to rent it. It covers more than 1.5 million advertisements in more than 34,000 cities and 191 countries. From creation, inaugust 2008, until June 2012, more than 10 million nights have been booked on Airbnb.**\n",
        "\n",
        "---\n",
        "\n"
      ],
      "metadata": {
        "id": "9dLLpx0nlWmF"
      }
    },
    {
      "cell_type": "markdown",
      "source": [
        "**🔹 Dataset Summary**\n",
        "\n",
        "**7756 rows, 21 columns**\n",
        "\n",
        "Contains session and user interaction data with Airbnb\n",
        "\n",
        "**Key columns:**\n",
        "\n",
        "id_visitor, id_session (**User and session IDs**)\n",
        "\n",
        "dim_device_app_combo, dim_user_agent (**Device details**)\n",
        "\n",
        "ds, ts_min, ts_max (**Timestamps**)\n",
        "\n",
        "did_search, sent_message, sent_booking_request (**User actions**)\n",
        "\n",
        "next_* (**columns track the next session details**)\n",
        "\n",
        "---\n",
        "\n"
      ],
      "metadata": {
        "id": "gKmEd6MoVDNg"
      }
    },
    {
      "cell_type": "markdown",
      "source": [
        "**Importing Libraries**"
      ],
      "metadata": {
        "id": "wXzUSmbAlfFY"
      }
    },
    {
      "cell_type": "code",
      "source": [
        "import pandas as pd\n",
        "import numpy as np\n",
        "import matplotlib.pyplot as plt\n",
        "import seaborn as sns\n",
        "from sklearn.model_selection import train_test_split, GridSearchCV\n",
        "from sklearn.preprocessing import LabelEncoder, StandardScaler\n",
        "from sklearn.ensemble import RandomForestClassifier\n",
        "from sklearn.linear_model import LinearRegression\n",
        "from sklearn.metrics import accuracy_score, classification_report, confusion_matrix, mean_absolute_error, mean_squared_error, r2_score\n",
        "from google.colab import files\n",
        "import zipfile\n",
        "import io"
      ],
      "metadata": {
        "id": "HN9fgV3hcDIk"
      },
      "execution_count": null,
      "outputs": []
    },
    {
      "cell_type": "markdown",
      "source": [
        "**Loading the data**"
      ],
      "metadata": {
        "id": "VxIGIRuClnrh"
      }
    },
    {
      "cell_type": "code",
      "source": [
        "# Upload dataset\n",
        "uploaded = files.upload()"
      ],
      "metadata": {
        "colab": {
          "base_uri": "https://localhost:8080/",
          "height": 73
        },
        "id": "UkbIHezQVtud",
        "outputId": "dc93851f-d3dd-45a5-af1c-2c0b8e7cd140"
      },
      "execution_count": null,
      "outputs": [
        {
          "output_type": "display_data",
          "data": {
            "text/plain": [
              "<IPython.core.display.HTML object>"
            ],
            "text/html": [
              "\n",
              "     <input type=\"file\" id=\"files-4bfe4adb-6358-4e75-989f-e1f996bbbe13\" name=\"files[]\" multiple disabled\n",
              "        style=\"border:none\" />\n",
              "     <output id=\"result-4bfe4adb-6358-4e75-989f-e1f996bbbe13\">\n",
              "      Upload widget is only available when the cell has been executed in the\n",
              "      current browser session. Please rerun this cell to enable.\n",
              "      </output>\n",
              "      <script>// Copyright 2017 Google LLC\n",
              "//\n",
              "// Licensed under the Apache License, Version 2.0 (the \"License\");\n",
              "// you may not use this file except in compliance with the License.\n",
              "// You may obtain a copy of the License at\n",
              "//\n",
              "//      http://www.apache.org/licenses/LICENSE-2.0\n",
              "//\n",
              "// Unless required by applicable law or agreed to in writing, software\n",
              "// distributed under the License is distributed on an \"AS IS\" BASIS,\n",
              "// WITHOUT WARRANTIES OR CONDITIONS OF ANY KIND, either express or implied.\n",
              "// See the License for the specific language governing permissions and\n",
              "// limitations under the License.\n",
              "\n",
              "/**\n",
              " * @fileoverview Helpers for google.colab Python module.\n",
              " */\n",
              "(function(scope) {\n",
              "function span(text, styleAttributes = {}) {\n",
              "  const element = document.createElement('span');\n",
              "  element.textContent = text;\n",
              "  for (const key of Object.keys(styleAttributes)) {\n",
              "    element.style[key] = styleAttributes[key];\n",
              "  }\n",
              "  return element;\n",
              "}\n",
              "\n",
              "// Max number of bytes which will be uploaded at a time.\n",
              "const MAX_PAYLOAD_SIZE = 100 * 1024;\n",
              "\n",
              "function _uploadFiles(inputId, outputId) {\n",
              "  const steps = uploadFilesStep(inputId, outputId);\n",
              "  const outputElement = document.getElementById(outputId);\n",
              "  // Cache steps on the outputElement to make it available for the next call\n",
              "  // to uploadFilesContinue from Python.\n",
              "  outputElement.steps = steps;\n",
              "\n",
              "  return _uploadFilesContinue(outputId);\n",
              "}\n",
              "\n",
              "// This is roughly an async generator (not supported in the browser yet),\n",
              "// where there are multiple asynchronous steps and the Python side is going\n",
              "// to poll for completion of each step.\n",
              "// This uses a Promise to block the python side on completion of each step,\n",
              "// then passes the result of the previous step as the input to the next step.\n",
              "function _uploadFilesContinue(outputId) {\n",
              "  const outputElement = document.getElementById(outputId);\n",
              "  const steps = outputElement.steps;\n",
              "\n",
              "  const next = steps.next(outputElement.lastPromiseValue);\n",
              "  return Promise.resolve(next.value.promise).then((value) => {\n",
              "    // Cache the last promise value to make it available to the next\n",
              "    // step of the generator.\n",
              "    outputElement.lastPromiseValue = value;\n",
              "    return next.value.response;\n",
              "  });\n",
              "}\n",
              "\n",
              "/**\n",
              " * Generator function which is called between each async step of the upload\n",
              " * process.\n",
              " * @param {string} inputId Element ID of the input file picker element.\n",
              " * @param {string} outputId Element ID of the output display.\n",
              " * @return {!Iterable<!Object>} Iterable of next steps.\n",
              " */\n",
              "function* uploadFilesStep(inputId, outputId) {\n",
              "  const inputElement = document.getElementById(inputId);\n",
              "  inputElement.disabled = false;\n",
              "\n",
              "  const outputElement = document.getElementById(outputId);\n",
              "  outputElement.innerHTML = '';\n",
              "\n",
              "  const pickedPromise = new Promise((resolve) => {\n",
              "    inputElement.addEventListener('change', (e) => {\n",
              "      resolve(e.target.files);\n",
              "    });\n",
              "  });\n",
              "\n",
              "  const cancel = document.createElement('button');\n",
              "  inputElement.parentElement.appendChild(cancel);\n",
              "  cancel.textContent = 'Cancel upload';\n",
              "  const cancelPromise = new Promise((resolve) => {\n",
              "    cancel.onclick = () => {\n",
              "      resolve(null);\n",
              "    };\n",
              "  });\n",
              "\n",
              "  // Wait for the user to pick the files.\n",
              "  const files = yield {\n",
              "    promise: Promise.race([pickedPromise, cancelPromise]),\n",
              "    response: {\n",
              "      action: 'starting',\n",
              "    }\n",
              "  };\n",
              "\n",
              "  cancel.remove();\n",
              "\n",
              "  // Disable the input element since further picks are not allowed.\n",
              "  inputElement.disabled = true;\n",
              "\n",
              "  if (!files) {\n",
              "    return {\n",
              "      response: {\n",
              "        action: 'complete',\n",
              "      }\n",
              "    };\n",
              "  }\n",
              "\n",
              "  for (const file of files) {\n",
              "    const li = document.createElement('li');\n",
              "    li.append(span(file.name, {fontWeight: 'bold'}));\n",
              "    li.append(span(\n",
              "        `(${file.type || 'n/a'}) - ${file.size} bytes, ` +\n",
              "        `last modified: ${\n",
              "            file.lastModifiedDate ? file.lastModifiedDate.toLocaleDateString() :\n",
              "                                    'n/a'} - `));\n",
              "    const percent = span('0% done');\n",
              "    li.appendChild(percent);\n",
              "\n",
              "    outputElement.appendChild(li);\n",
              "\n",
              "    const fileDataPromise = new Promise((resolve) => {\n",
              "      const reader = new FileReader();\n",
              "      reader.onload = (e) => {\n",
              "        resolve(e.target.result);\n",
              "      };\n",
              "      reader.readAsArrayBuffer(file);\n",
              "    });\n",
              "    // Wait for the data to be ready.\n",
              "    let fileData = yield {\n",
              "      promise: fileDataPromise,\n",
              "      response: {\n",
              "        action: 'continue',\n",
              "      }\n",
              "    };\n",
              "\n",
              "    // Use a chunked sending to avoid message size limits. See b/62115660.\n",
              "    let position = 0;\n",
              "    do {\n",
              "      const length = Math.min(fileData.byteLength - position, MAX_PAYLOAD_SIZE);\n",
              "      const chunk = new Uint8Array(fileData, position, length);\n",
              "      position += length;\n",
              "\n",
              "      const base64 = btoa(String.fromCharCode.apply(null, chunk));\n",
              "      yield {\n",
              "        response: {\n",
              "          action: 'append',\n",
              "          file: file.name,\n",
              "          data: base64,\n",
              "        },\n",
              "      };\n",
              "\n",
              "      let percentDone = fileData.byteLength === 0 ?\n",
              "          100 :\n",
              "          Math.round((position / fileData.byteLength) * 100);\n",
              "      percent.textContent = `${percentDone}% done`;\n",
              "\n",
              "    } while (position < fileData.byteLength);\n",
              "  }\n",
              "\n",
              "  // All done.\n",
              "  yield {\n",
              "    response: {\n",
              "      action: 'complete',\n",
              "    }\n",
              "  };\n",
              "}\n",
              "\n",
              "scope.google = scope.google || {};\n",
              "scope.google.colab = scope.google.colab || {};\n",
              "scope.google.colab._files = {\n",
              "  _uploadFiles,\n",
              "  _uploadFilesContinue,\n",
              "};\n",
              "})(self);\n",
              "</script> "
            ]
          },
          "metadata": {}
        },
        {
          "output_type": "stream",
          "name": "stdout",
          "text": [
            "Saving airbnb.csv.zip to airbnb.csv.zip\n"
          ]
        }
      ]
    },
    {
      "cell_type": "code",
      "source": [
        "# Load dataset\n",
        "df = pd.read_csv(next(iter(uploaded)))"
      ],
      "metadata": {
        "id": "G71YRcqDV0-0"
      },
      "execution_count": null,
      "outputs": []
    },
    {
      "cell_type": "markdown",
      "source": [
        "**Comprehensive EDA & Improved Handling of Missing Data**"
      ],
      "metadata": {
        "id": "FtZ6vcmFtQDI"
      }
    },
    {
      "cell_type": "code",
      "source": [
        "# Extract and load dataset\n",
        "if 'archive (4).zip' in uploaded:\n",
        "    with zipfile.ZipFile(io.BytesIO(uploaded['archive (4).zip']), 'r') as z:\n",
        "        file_list = z.namelist()\n",
        "        for file in file_list:\n",
        "            with z.open(file) as f:\n",
        "                if 'calendar.csv' in file:\n",
        "                    df_calendar = pd.read_csv(f)\n",
        "                    # Convert date column to datetime #indentation fixed: Moved inside the inner with block\n",
        "                    df_calendar['date'] = pd.to_datetime(df_calendar['date'])\n",
        "                else:\n",
        "                    df = pd.read_csv(f)"
      ],
      "metadata": {
        "id": "WZAJjUghhZZ3"
      },
      "execution_count": null,
      "outputs": []
    },
    {
      "cell_type": "code",
      "source": [
        "#df_calendar['date'] = pd.to_datetime(df_calendar['date']) #This line is redundant as date is already converted\n",
        "\n",
        "# The following line is removed as it caused the IndentationError\n",
        "# df_calendar.fillna(method='ffill', inplace=True)  # This line was also moved inside the 'if' block"
      ],
      "metadata": {
        "id": "B6E_LkqLh_ii"
      },
      "execution_count": null,
      "outputs": []
    },
    {
      "cell_type": "code",
      "source": [
        "# Aggregate price trends per listing\n",
        "if 'calendar.csv.zip' in uploaded:\n",
        "    # These lines should be inside the 'if' block\n",
        "    df_calendar['price'] = df_calendar['price'].replace({'\\$': '', ',': ''}, regex=True).astype(float) #indentation fixed: reduced indentation by 4 spaces\n",
        "    price_trends = df_calendar.groupby('listing_id')['price'].mean().reset_index() #indentation fixed: reduced indentation by 4 spaces\n",
        "\n",
        "    # Availability trends\n",
        "    availability_trends = df_calendar.groupby('listing_id')['available'].apply(lambda x: (x == 't').sum()).reset_index() #indentation fixed: reduced indentation by 4 spaces\n",
        "    availability_trends.rename(columns={'available': 'available_days'}, inplace=True) #indentation fixed: reduced indentation by 4 spaces\n",
        "\n",
        "    # Merge with main dataset if listing_id exists\n",
        "    #NOTE: This part was modified. I assume you want to read in 'airbnb.csv.zip' and not re-reading a file from the uploaded dictionary using next(iter(uploaded))\n",
        "    with zipfile.ZipFile(io.BytesIO(uploaded['airbnb.csv.zip']), 'r') as z: #indentation fixed: reduced indentation by 4 spaces\n",
        "        with z.open('airbnb.csv') as f: #indentation fixed: reduced indentation by 4 spaces\n",
        "            df = pd.read_csv(f) #indentation fixed: reduced indentation by 4 spaces\n",
        "\n",
        "    if 'listing_id' in df.columns: #indentation fixed: reduced indentation by 4 spaces\n",
        "        df = df.merge(price_trends, on='listing_id', how='left') #indentation fixed: reduced indentation by 4 spaces\n",
        "        df = df.merge(availability_trends, on='listing_id', how='left') #indentation fixed: reduced indentation by 4 spaces"
      ],
      "metadata": {
        "id": "BVZBtMdtdUOn"
      },
      "execution_count": null,
      "outputs": []
    },
    {
      "cell_type": "code",
      "source": [
        "# Convert date columns if applicable\n",
        "if 'ds' in df.columns:\n",
        "    df['ds'] = pd.to_datetime(df['ds'])\n",
        "if 'ts_min' in df.columns:\n",
        "    df['ts_min'] = pd.to_datetime(df['ts_min'])\n",
        "if 'ts_max' in df.columns:\n",
        "    df['ts_max'] = pd.to_datetime(df['ts_max'])"
      ],
      "metadata": {
        "id": "NJjkOWCGV5x2"
      },
      "execution_count": null,
      "outputs": []
    },
    {
      "cell_type": "code",
      "source": [
        "\n",
        "# Handle missing values\n",
        "df.fillna(method='ffill', inplace=True)"
      ],
      "metadata": {
        "colab": {
          "base_uri": "https://localhost:8080/"
        },
        "id": "srIcNWEoV82P",
        "outputId": "0a42d1ae-8a09-4fd3-83c9-191e4eba1ed1"
      },
      "execution_count": null,
      "outputs": [
        {
          "output_type": "stream",
          "name": "stderr",
          "text": [
            "<ipython-input-5-ed8fca9f4368>:2: FutureWarning: DataFrame.fillna with 'method' is deprecated and will raise in a future version. Use obj.ffill() or obj.bfill() instead.\n",
            "  df.fillna(method='ffill', inplace=True)\n"
          ]
        }
      ]
    },
    {
      "cell_type": "code",
      "source": [
        "# Encode categorical variables\n",
        "encoder = LabelEncoder()\n",
        "if 'dim_device_app_combo' in df.columns:\n",
        "    df['dim_device_app_combo'] = encoder.fit_transform(df['dim_device_app_combo'])\n",
        "if 'dim_user_agent' in df.columns:\n",
        "    df['dim_user_agent'] = encoder.fit_transform(df['dim_user_agent'].astype(str))"
      ],
      "metadata": {
        "id": "WkdlObGBWmhH"
      },
      "execution_count": null,
      "outputs": []
    },
    {
      "cell_type": "markdown",
      "source": [
        "**Model Building**"
      ],
      "metadata": {
        "id": "Ulv6LztTofl-"
      }
    },
    {
      "cell_type": "code",
      "source": [
        "# Feature selection\n",
        "features = [col for col in ['dim_session_number', 'dim_device_app_combo', 'dim_user_agent', 'did_search', 'sent_message'] if col in df.columns]\n",
        "target = 'sent_booking_request'\n",
        "\n",
        "if target in df.columns:\n",
        "    X = df[features]\n",
        "    y = df[target]"
      ],
      "metadata": {
        "id": "Ewf0FBcZWuoS"
      },
      "execution_count": null,
      "outputs": []
    },
    {
      "cell_type": "code",
      "source": [
        "\n",
        "    # Train-test split\n",
        "    X_train, X_test, y_train, y_test = train_test_split(X, y, test_size=0.2, random_state=42)"
      ],
      "metadata": {
        "id": "LhwRujrOWylB"
      },
      "execution_count": null,
      "outputs": []
    },
    {
      "cell_type": "code",
      "source": [
        "# Scaling data\n",
        "scaler = StandardScaler()\n",
        "X_train = scaler.fit_transform(X_train)\n",
        "X_test = scaler.transform(X_test)"
      ],
      "metadata": {
        "id": "PQlX6y17W9NQ"
      },
      "execution_count": null,
      "outputs": []
    },
    {
      "cell_type": "markdown",
      "source": [
        "**Optimized RandomForest Model with Hyperparameter Tuning**"
      ],
      "metadata": {
        "id": "VZkn5H2wi26Q"
      }
    },
    {
      "cell_type": "code",
      "source": [
        "# Hyperparameter tuning for RandomForest\n",
        "param_grid = {\n",
        "    'n_estimators': [50, 100, 200],\n",
        "    'max_depth': [None, 10, 20],\n",
        "    'min_samples_split': [2, 5, 10]\n",
        "}\n",
        "\n",
        "grid_search = GridSearchCV(RandomForestClassifier(random_state=42), param_grid, cv=5, n_jobs=-1)\n",
        "grid_search.fit(X_train, y_train)\n",
        "best_model = grid_search.best_estimator_"
      ],
      "metadata": {
        "id": "9NrvQ_h-XQ0w"
      },
      "execution_count": null,
      "outputs": []
    },
    {
      "cell_type": "code",
      "source": [
        "# Predictions\n",
        "y_pred = best_model.predict(X_test)\n"
      ],
      "metadata": {
        "id": "Ml6zoG5fXowH"
      },
      "execution_count": null,
      "outputs": []
    },
    {
      "cell_type": "code",
      "source": [
        "# Evaluation\n",
        "print(\"Best Parameters:\", grid_search.best_params_)\n",
        "print(\"Accuracy:\", accuracy_score(y_test, y_pred))\n",
        "print(classification_report(y_test, y_pred))"
      ],
      "metadata": {
        "colab": {
          "base_uri": "https://localhost:8080/"
        },
        "id": "4WL6t2FjXvJ9",
        "outputId": "425e0631-5b50-4260-a06b-8cf88ac03ecd"
      },
      "execution_count": null,
      "outputs": [
        {
          "output_type": "stream",
          "name": "stdout",
          "text": [
            "Best Parameters: {'max_depth': 10, 'min_samples_split': 5, 'n_estimators': 200}\n",
            "Accuracy: 0.9851804123711341\n",
            "              precision    recall  f1-score   support\n",
            "\n",
            "           0       0.99      1.00      0.99      1529\n",
            "           1       0.50      0.13      0.21        23\n",
            "\n",
            "    accuracy                           0.99      1552\n",
            "   macro avg       0.74      0.56      0.60      1552\n",
            "weighted avg       0.98      0.99      0.98      1552\n",
            "\n"
          ]
        }
      ]
    },
    {
      "cell_type": "code",
      "source": [
        "# Confusion matrix\n",
        "plt.figure(figsize=(6,4)) #indentation fixed: removed 4 spaces\n",
        "sns.heatmap(confusion_matrix(y_test, y_pred), annot=True, fmt='d', cmap='Blues')\n",
        "plt.xlabel('Predicted')\n",
        "plt.ylabel('Actual')\n",
        "plt.title('Confusion Matrix')\n",
        "plt.show()"
      ],
      "metadata": {
        "colab": {
          "base_uri": "https://localhost:8080/",
          "height": 410
        },
        "id": "cl0L3aBMdpnp",
        "outputId": "b056256d-1597-4886-c7fe-0b4104a15f61"
      },
      "execution_count": null,
      "outputs": [
        {
          "output_type": "display_data",
          "data": {
            "text/plain": [
              "<Figure size 600x400 with 2 Axes>"
            ],
            "image/png": "[encoded data removed]"
          },
          "metadata": {}
        }
      ]
    },
    {
      "cell_type": "markdown",
      "source": [
        "**Linear Regression for Price Prediction** along with **Hyperparameter Tuning & Performance Evaluation.**"
      ],
      "metadata": {
        "id": "ZFsrjeqFs0VG"
      }
    },
    {
      "cell_type": "code",
      "source": [
        "# Linear Regression for Price Prediction (if price column exists)\n",
        "if 'price' in df.columns:\n",
        "    print(\"\\nBuilding Linear Regression Model for Price Prediction...\")\n",
        "\n",
        "    X_price = df[features]\n",
        "    y_price = df['price']\n",
        "\n",
        "    X_train, X_test, y_train, y_test = train_test_split(X_price, y_price, test_size=0.2, random_state=42)"
      ],
      "metadata": {
        "id": "9OOxl3jAtf8J"
      },
      "execution_count": null,
      "outputs": []
    },
    {
      "cell_type": "code",
      "source": [
        "# Linear Regression for Price Prediction (if price column exists)\n",
        "if 'price' in df.columns:\n",
        "    print(\"\\nBuilding Linear Regression Model for Price Prediction...\")\n",
        "\n",
        "    X_price = df[features]\n",
        "    y_price = df['price']\n",
        "\n",
        "    X_train, X_test, y_train, y_test = train_test_split(X_price, y_price, test_size=0.2, random_state=42)\n",
        "\n",
        "    # Hyperparameter tuning for Linear Regression #indentation fixed: reduced indentation by 4 spaces to align with the if block\n",
        "    print(\"\\nPerforming Hyperparameter Tuning...\") #indentation fixed: reduced indentation by 4 spaces to align with the if block\n",
        "    best_alpha = None #indentation fixed: reduced indentation by 4 spaces to align with the if block\n",
        "    best_r2 = -np.inf #indentation fixed: reduced indentation by 4 spaces to align with the if block\n",
        "\n",
        "    for alpha in [0.01, 0.1, 1, 10, 100]: #indentation fixed: reduced indentation by 4 spaces to align with the if block\n",
        "        model = LinearRegression() #indentation fixed: reduced indentation by 4 spaces to align with the if block\n",
        "        model.fit(X_train, y_train) #indentation fixed: reduced indentation by 4 spaces to align with the if block\n",
        "        r2 = model.score(X_test, y_test) #indentation fixed: reduced indentation by 4 spaces to align with the if block\n",
        "        if r2 > best_r2: #indentation fixed: reduced indentation by 4 spaces to align with the if block\n",
        "            best_r2 = r2 #indentation fixed: reduced indentation by 8 spaces to align with the if block\n",
        "            best_alpha = alpha #indentation fixed: reduced indentation by 8 spaces to align with the if block\n",
        "\n",
        "    print(f\"Best Alpha: {best_alpha}, Best R² Score: {best_r2}\") #indentation fixed: reduced indentation by 4 spaces to align with the if block"
      ],
      "metadata": {
        "id": "MuIsQ6aqtyg5"
      },
      "execution_count": null,
      "outputs": []
    },
    {
      "cell_type": "code",
      "source": [
        "# Price distribution visualization (if price column exists)\n",
        "print(df.columns)\n",
        "\n",
        "# Check if df_calendar exists before trying to access it\n",
        "if 'df_calendar' in locals() or 'df_calendar' in globals():\n",
        "    print(df_calendar.columns)\n",
        "\n",
        "    if 'price' in df_calendar.columns:\n",
        "        df_calendar['price'] = df_calendar['price'].replace({'\\\\$': '', ',': ''}, regex=True).astype(float)\n",
        "\n",
        "    if 'listing_id' in df.columns and 'listing_id' in df_calendar.columns:\n",
        "        price_trends = df_calendar.groupby('listing_id')['price'].mean().reset_index()\n",
        "        df = df.merge(price_trends, on='listing_id', how='left')\n",
        "\n",
        "if 'price' in df.columns:\n",
        "    print(\"Price column exists.\")  # Check if the column is present\n",
        "    print(df['price'].dtype)  # Check the data type of the price column\n",
        "    plt.figure(figsize=(8,5))\n",
        "    sns.histplot(df['price'], bins=50, kde=True)\n",
        "    plt.title('Price Distribution')\n",
        "    plt.xlabel('Price')\n",
        "    plt.ylabel('Frequency')\n",
        "    plt.show()\n",
        "else:\n",
        "    print(\"Price column does not exist in the DataFrame.\")"
      ],
      "metadata": {
        "colab": {
          "base_uri": "https://localhost:8080/"
        },
        "id": "ZC-jqMl3vpy4",
        "outputId": "f36d8cf7-dc78-4e1b-c082-4ef9e7d43d93"
      },
      "execution_count": null,
      "outputs": [
        {
          "output_type": "stream",
          "name": "stdout",
          "text": [
            "Index(['id_visitor', 'id_session', 'dim_session_number', 'dim_user_agent',\n",
            "       'dim_device_app_combo', 'ds', 'ts_min', 'ts_max', 'did_search',\n",
            "       'sent_message', 'sent_booking_request', 'next_id_session',\n",
            "       'next_dim_session_number', 'next_dim_user_agent',\n",
            "       'next_dim_device_app_combo', 'next_ds', 'next_ts_min', 'next_ts_max',\n",
            "       'next_did_search', 'next_sent_message', 'next_sent_booking_request'],\n",
            "      dtype='object')\n",
            "Price column does not exist in the DataFrame.\n"
          ]
        }
      ]
    },
    {
      "cell_type": "code",
      "source": [
        "\n",
        "    # Train best model\n",
        "    model = LinearRegression()\n",
        "    model.fit(X_train, y_train)\n",
        "    y_pred = model.predict(X_test)"
      ],
      "metadata": {
        "id": "HnA05gOQtuk5"
      },
      "execution_count": null,
      "outputs": []
    },
    {
      "cell_type": "code",
      "source": [
        "# Performance Metrics\n",
        "if 'price' in df.columns:\n",
        "    print(\"R² Score:\", r2_score(y_test, y_pred))\n",
        "    print(\"MAE:\", mean_absolute_error(y_test, y_pred))\n",
        "    print(\"RMSE:\", np.sqrt(mean_squared_error(y_test, y_pred)))"
      ],
      "metadata": {
        "id": "Exqsf4jPetwH"
      },
      "execution_count": null,
      "outputs": []
    },
    {
      "cell_type": "code",
      "source": [
        "# Feature Importance\n",
        "if 'price' in df.columns:\n",
        "    feature_importance = pd.Series(model.coef_, index=features)\n",
        "    feature_importance.sort_values().plot(kind='barh', figsize=(8,5), title='Feature Importance in Price Prediction')\n",
        "    plt.show()"
      ],
      "metadata": {
        "id": "PRcN1hSzkUFR"
      },
      "execution_count": null,
      "outputs": []
    },
    {
      "cell_type": "code",
      "source": [
        "# Additional visualization\n",
        "if 'dim_device_app_combo' in df.columns:\n",
        "    plt.figure(figsize=(8,5))\n",
        "    sns.countplot(x='dim_device_app_combo', data=df)\n",
        "    plt.title('Device Distribution')\n",
        "    plt.show()"
      ],
      "metadata": {
        "colab": {
          "base_uri": "https://localhost:8080/",
          "height": 487
        },
        "id": "93zu4FpHuKvj",
        "outputId": "428a4fce-dbd9-4cdc-b0a2-35c214dd86b4"
      },
      "execution_count": null,
      "outputs": [
        {
          "output_type": "display_data",
          "data": {
            "text/plain": [
              "<Figure size 800x500 with 1 Axes>"
            ],
            "image/png": "[encoded data removed]"
          },
          "metadata": {}
        }
      ]
    }
  ]
}